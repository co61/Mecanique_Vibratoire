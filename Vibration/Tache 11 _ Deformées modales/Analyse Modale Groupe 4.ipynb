{
 "cells": [
  {
   "cell_type": "markdown",
   "metadata": {},
   "source": [
    "# Projet de CMV 2021 : équipe 4"
   ]
  },
  {
   "cell_type": "markdown",
   "metadata": {},
   "source": [
    "Réalisé par Ronan GUGUEN avec la participation de Charles CORNILLOU et Yann BOUCHET"
   ]
  },
  {
   "cell_type": "markdown",
   "metadata": {},
   "source": [
    "# Analyse modale"
   ]
  },
  {
   "cell_type": "code",
   "execution_count": 1,
   "metadata": {},
   "outputs": [],
   "source": [
    "import numpy as np\n",
    "import matplotlib.pyplot as plt\n",
    "import scipy.linalg as la\n",
    "from scipy.integrate import odeint\n",
    "import scipy.fftpack\n",
    "from scipy import signal\n",
    "plt.rcParams['figure.figsize'] = [12, 3]\n",
    "from scipy import optimize\n",
    "import functools\n",
    "from matplotlib import cm\n",
    "from matplotlib.ticker import LinearLocator, FormatStrFormatter\n",
    "from mpl_toolkits.mplot3d import axes3d, Axes3D #<-- Note the capitalization! "
   ]
  },
  {
   "cell_type": "markdown",
   "metadata": {},
   "source": [
    "## Paramètres relatifs à notre étude"
   ]
  },
  {
   "cell_type": "code",
   "execution_count": 2,
   "metadata": {},
   "outputs": [
    {
     "name": "stdout",
     "output_type": "stream",
     "text": [
      "I= 1.3541666666666668e-13\n",
      "m= 0.012402\n",
      "w1= 38.16388840447355\n",
      "f1= 6.073971487179433\n",
      "w2= 242.35482346044188\n",
      "w3= 673.2078429456719\n",
      "w4= 1319.4873721735169\n",
      "w5= 2181.193411143977\n"
     ]
    }
   ],
   "source": [
    "# Définission des variables propres à notre problèmes\n",
    "rho=7200;       #masse volumique km/m3\n",
    "e=0.0005;        #épaisseur de la lame m\n",
    "b=0.013;        #largeur de la lame m\n",
    "S=e*b;          #section de la poutre m2\n",
    "long=0.265;        #longueur de la lame m\n",
    "E=203000000000; #module d'Young \n",
    "I=b*e**3/12;\n",
    "m=rho*S*long\n",
    "w1=1.87**2*(E*I/(m*long**3))**0.5\n",
    "w2=(((2*2-1)*np.pi/2)**2)*(E*I/(m*long**3))**0.5\n",
    "w3=(((2*3-1)*np.pi/2)**2)*(E*I/(m*long**3))**0.5\n",
    "w4=(((2*4-1)*np.pi/2)**2)*(E*I/(m*long**3))**0.5\n",
    "w5=(((2*5-1)*np.pi/2)**2)*(E*I/(m*long**3))**0.5\n",
    "\n",
    "\n",
    "print('I=',I)\n",
    "print('m=',m)\n",
    "print('w1=',w1)\n",
    "print('f1=',w1/(2*np.pi))\n",
    "print('w2=',w2)\n",
    "print('w3=',w3)\n",
    "print('w4=',w4)\n",
    "print('w5=',w5)"
   ]
  },
  {
   "cell_type": "code",
   "execution_count": 3,
   "metadata": {},
   "outputs": [
    {
     "name": "stdout",
     "output_type": "stream",
     "text": [
      "elm = 3 ; deg = 2 ; noeud = 4 ; n = 8\n"
     ]
    }
   ],
   "source": [
    "# Définission du degré de liberté\n",
    "elm=3;\n",
    "\n",
    "deg=2        #nb de degré de liberté par noeud\n",
    "\n",
    "noeud=elm+1;\n",
    "\n",
    "n=noeud*deg; #nb de degré de liberté total, soit le nb de colonne/ligne\n",
    "\n",
    "print(\"elm =\",elm,\"; deg =\",deg,\"; noeud =\",noeud,\"; n =\",n)"
   ]
  },
  {
   "cell_type": "markdown",
   "metadata": {},
   "source": [
    "## Méthode de décuplement des matrices utilisées"
   ]
  },
  {
   "cell_type": "code",
   "execution_count": 4,
   "metadata": {},
   "outputs": [
    {
     "name": "stdout",
     "output_type": "stream",
     "text": [
      "A=\n",
      " [[0. 0. 0. 0. 0. 0. 0. 0.]\n",
      " [0. 0. 0. 0. 0. 0. 0. 0.]\n",
      " [0. 0. 0. 0. 0. 0. 0. 0.]\n",
      " [0. 0. 0. 0. 0. 0. 0. 0.]\n",
      " [0. 0. 0. 0. 0. 0. 0. 0.]\n",
      " [0. 0. 0. 0. 0. 0. 0. 0.]\n",
      " [0. 0. 0. 0. 0. 0. 0. 0.]\n",
      " [0. 0. 0. 0. 0. 0. 0. 0.]]\n",
      "B=\n",
      " [[1. 1. 1. 1.]\n",
      " [1. 1. 1. 1.]\n",
      " [1. 1. 1. 1.]\n",
      " [1. 1. 1. 1.]]\n",
      "A=\n",
      " [[1. 1. 1. 1. 0. 0. 0. 0.]\n",
      " [1. 1. 1. 1. 0. 0. 0. 0.]\n",
      " [1. 1. 2. 2. 1. 1. 0. 0.]\n",
      " [1. 1. 2. 2. 1. 1. 0. 0.]\n",
      " [0. 0. 1. 1. 2. 2. 1. 1.]\n",
      " [0. 0. 1. 1. 2. 2. 1. 1.]\n",
      " [0. 0. 0. 0. 1. 1. 1. 1.]\n",
      " [0. 0. 0. 0. 1. 1. 1. 1.]]\n"
     ]
    }
   ],
   "source": [
    "# Adaptation de la matrice\n",
    "r, c = 0, 0\n",
    "A = np.zeros((n, n))\n",
    "B = np.ones((4, 4))\n",
    "\n",
    "print(\"A=\\n\",A)\n",
    "print(\"B=\\n\",B)\n",
    "\n",
    "for i in range(0,elm):\n",
    "    A[r:r+B.shape[0], c:c+B.shape[1]] += B\n",
    "    r+= 2\n",
    "    c+= 2\n",
    "\n",
    "print(\"A=\\n\",A)"
   ]
  },
  {
   "cell_type": "markdown",
   "metadata": {},
   "source": [
    "## Etude sans ammortissement"
   ]
  },
  {
   "cell_type": "markdown",
   "metadata": {},
   "source": [
    "### Construction des matrices du système"
   ]
  },
  {
   "cell_type": "markdown",
   "metadata": {},
   "source": [
    "\\begin{equation}\n",
    "\\left[ M \\right] \\left\\lbrace \\ddot{q} \\right\\rbrace + \\left[ B \\right] \\left\\lbrace \\dot{q} \\right\\rbrace + \\left[ K \\right] \\left\\lbrace q \\right\\rbrace = \\left\\lbrace 0 \\right\\rbrace\n",
    "\\end{equation}"
   ]
  },
  {
   "cell_type": "code",
   "execution_count": 5,
   "metadata": {
    "scrolled": true
   },
   "outputs": [
    {
     "name": "stdout",
     "output_type": "stream",
     "text": [
      "mm0 =\n",
      " [[2.06700000e-03 0.00000000e+00 0.00000000e+00 0.00000000e+00]\n",
      " [0.00000000e+00 1.61283417e-05 0.00000000e+00 0.00000000e+00]\n",
      " [0.00000000e+00 0.00000000e+00 2.06700000e-03 0.00000000e+00]\n",
      " [0.00000000e+00 0.00000000e+00 0.00000000e+00 1.61283417e-05]]\n",
      "kk0 =\n",
      " [[ 12.           0.53       -12.           0.53      ]\n",
      " [  0.53         0.03121111  -0.53         0.01560556]\n",
      " [-12.          -0.53        12.          -0.53      ]\n",
      " [  0.53         0.01560556  -0.53         0.03121111]]\n",
      "mm0 =\n",
      " [[2.06700000e-03 0.00000000e+00 0.00000000e+00 0.00000000e+00]\n",
      " [0.00000000e+00 1.61283417e-05 0.00000000e+00 0.00000000e+00]\n",
      " [0.00000000e+00 0.00000000e+00 2.06700000e-03 0.00000000e+00]\n",
      " [0.00000000e+00 0.00000000e+00 0.00000000e+00 1.61283417e-05]]\n",
      "bb0 =\n",
      " [[0. 0. 0. 0.]\n",
      " [0. 0. 0. 0.]\n",
      " [0. 0. 0. 0.]\n",
      " [0. 0. 0. 0.]]\n",
      "kk0 =\n",
      " [[ 478.60314219   21.13830545 -478.60314219   21.13830545]\n",
      " [  21.13830545    1.24481132  -21.13830545    0.62240566]\n",
      " [-478.60314219  -21.13830545  478.60314219  -21.13830545]\n",
      " [  21.13830545    0.62240566  -21.13830545    1.24481132]]\n",
      "mm =\n",
      " [[2.06700000e-03 0.00000000e+00 0.00000000e+00 0.00000000e+00\n",
      "  0.00000000e+00 0.00000000e+00 0.00000000e+00 0.00000000e+00]\n",
      " [0.00000000e+00 1.61283417e-05 0.00000000e+00 0.00000000e+00\n",
      "  0.00000000e+00 0.00000000e+00 0.00000000e+00 0.00000000e+00]\n",
      " [0.00000000e+00 0.00000000e+00 4.13400000e-03 0.00000000e+00\n",
      "  0.00000000e+00 0.00000000e+00 0.00000000e+00 0.00000000e+00]\n",
      " [0.00000000e+00 0.00000000e+00 0.00000000e+00 3.22566833e-05\n",
      "  0.00000000e+00 0.00000000e+00 0.00000000e+00 0.00000000e+00]\n",
      " [0.00000000e+00 0.00000000e+00 0.00000000e+00 0.00000000e+00\n",
      "  4.13400000e-03 0.00000000e+00 0.00000000e+00 0.00000000e+00]\n",
      " [0.00000000e+00 0.00000000e+00 0.00000000e+00 0.00000000e+00\n",
      "  0.00000000e+00 3.22566833e-05 0.00000000e+00 0.00000000e+00]\n",
      " [0.00000000e+00 0.00000000e+00 0.00000000e+00 0.00000000e+00\n",
      "  0.00000000e+00 0.00000000e+00 2.06700000e-03 0.00000000e+00]\n",
      " [0.00000000e+00 0.00000000e+00 0.00000000e+00 0.00000000e+00\n",
      "  0.00000000e+00 0.00000000e+00 0.00000000e+00 1.61283417e-05]]\n",
      "bb =\n",
      " [[0. 0. 0. 0. 0. 0. 0. 0.]\n",
      " [0. 0. 0. 0. 0. 0. 0. 0.]\n",
      " [0. 0. 0. 0. 0. 0. 0. 0.]\n",
      " [0. 0. 0. 0. 0. 0. 0. 0.]\n",
      " [0. 0. 0. 0. 0. 0. 0. 0.]\n",
      " [0. 0. 0. 0. 0. 0. 0. 0.]\n",
      " [0. 0. 0. 0. 0. 0. 0. 0.]\n",
      " [0. 0. 0. 0. 0. 0. 0. 0.]]\n",
      "kk =\n",
      " [[ 4.78603142e+02  2.11383054e+01 -4.78603142e+02  2.11383054e+01\n",
      "   0.00000000e+00  0.00000000e+00  0.00000000e+00  0.00000000e+00]\n",
      " [ 2.11383054e+01  1.24481132e+00 -2.11383054e+01  6.22405660e-01\n",
      "   0.00000000e+00  0.00000000e+00  0.00000000e+00  0.00000000e+00]\n",
      " [-4.78603142e+02 -2.11383054e+01  9.57206284e+02  0.00000000e+00\n",
      "  -4.78603142e+02  2.11383054e+01  0.00000000e+00  0.00000000e+00]\n",
      " [ 2.11383054e+01  6.22405660e-01  0.00000000e+00  2.48962264e+00\n",
      "  -2.11383054e+01  6.22405660e-01  0.00000000e+00  0.00000000e+00]\n",
      " [ 0.00000000e+00  0.00000000e+00 -4.78603142e+02 -2.11383054e+01\n",
      "   9.57206284e+02  0.00000000e+00 -4.78603142e+02  2.11383054e+01]\n",
      " [ 0.00000000e+00  0.00000000e+00  2.11383054e+01  6.22405660e-01\n",
      "   0.00000000e+00  2.48962264e+00 -2.11383054e+01  6.22405660e-01]\n",
      " [ 0.00000000e+00  0.00000000e+00  0.00000000e+00  0.00000000e+00\n",
      "  -4.78603142e+02 -2.11383054e+01  4.78603142e+02 -2.11383054e+01]\n",
      " [ 0.00000000e+00  0.00000000e+00  0.00000000e+00  0.00000000e+00\n",
      "   2.11383054e+01  6.22405660e-01 -2.11383054e+01  1.24481132e+00]]\n"
     ]
    }
   ],
   "source": [
    "# Calcul des matrice de masse et de raideur\n",
    "l=long/elm\n",
    "\n",
    "coefd=0.5;\n",
    "#mm0=np.array([[156,22*l,54,-13*l],[22*l,4*(l)**2,13*l,-3*(l)**2],[54,13*l,156,-22*l],[-13*l,-3*(l)**2,-22*l,4*(l)**2]]);\n",
    "#mm0=((rho*S*l)/420)*mm0\n",
    "mm0=np.array([[rho*S*l/2,0.,0.,0.],[0.,rho*S*l*l*l*coefd,0.,0.],[0.,0.,rho*S*l/2,0.],[0.,0.,0.,rho*S*l*l*l*coefd]]);\n",
    "print(\"mm0 =\\n\",mm0)\n",
    "bb0=np.zeros((4,4));\n",
    "kk0=np.array([[12,6*l,-12,6*l],[6*l,4*(l)**2,-6*l,2*(l)**2],[-12,-6*l,12,-6*l],[6*l,2*(l)**2,-6*l,4*(l)**2]]);\n",
    "print(\"kk0 =\\n\",kk0)\n",
    "kk0=((E*I)/l**3)*kk0\n",
    "\n",
    "print(\"mm0 =\\n\",mm0)\n",
    "print(\"bb0 =\\n\",bb0)\n",
    "print(\"kk0 =\\n\",kk0)\n",
    "\n",
    "rm, cm = 0, 0\n",
    "rb, cb = 0, 0\n",
    "rk, ck = 0, 0\n",
    "\n",
    "mm = np.zeros((n, n))\n",
    "bb = np.zeros((n, n))\n",
    "kk = np.zeros((n, n))\n",
    "\n",
    "for i in range(0,elm):\n",
    "    mm[rm:rm+mm0.shape[0], cm:cm+mm0.shape[1]] += mm0\n",
    "    rm+= 2\n",
    "    cm+= 2\n",
    "    \n",
    "for i in range(0,elm):\n",
    "    bb[rb:rb+bb0.shape[0], cb:cb+bb0.shape[1]] += bb0\n",
    "    rb+= 2\n",
    "    cb+= 2\n",
    "    \n",
    "for i in range(0,elm):\n",
    "    kk[rk:rk+kk0.shape[0], ck:ck+kk0.shape[1]] += kk0\n",
    "    rk+= 2\n",
    "    ck+= 2\n",
    "    \n",
    "print(\"mm =\\n\",mm)\n",
    "print(\"bb =\\n\",bb)\n",
    "print(\"kk =\\n\",kk)\n",
    "\n",
    "# \"Diagonaliser\" la matrice (lumped matrix)\n",
    "\n",
    "#md=np.zeros((mm.shape))\n",
    "#for j in range(mm.shape[0]):\n",
    "#    C=0\n",
    "#    for i in range(mm.shape[1]):\n",
    "#        C=C+mm[j,i]\n",
    "#    md[j,j]=C\n",
    "    \n",
    "#print(\"md =\\n\",md)\n",
    "\n",
    "#mm=md"
   ]
  },
  {
   "cell_type": "markdown",
   "metadata": {},
   "source": [
    "### Mise en commun des matrices"
   ]
  },
  {
   "cell_type": "markdown",
   "metadata": {},
   "source": [
    "\\begin{equation}\n",
    "\\left[ \\begin{array}{c c} \\left[ 0 \\right] & \\left[ M \\right] \\\\ \\left[ M \\right] & \\left[ B \\right] \\end{array} \\right] \\left\\lbrace \\begin{array}{c} \\left\\lbrace \\ddot{q} \\right\\rbrace \\\\ \\left\\lbrace \\dot{q} \\right\\rbrace \\end{array} \\right\\rbrace + \\left[ \\begin{array}{c c} \\left[ -M \\right] & \\left[ 0 \\right] \\\\ \\left[ 0 \\right] & \\left[ K \\right] \\end{array} \\right] \\left\\lbrace \\begin{array}{c} \\left\\lbrace \\dot{q} \\right\\rbrace \\\\ \\left\\lbrace q \\right\\rbrace \\end{array} \\right\\rbrace = \\left\\lbrace \\begin{array}{c} \\left\\lbrace 0 \\right\\rbrace \\\\ \\left\\lbrace 0 \\right\\rbrace \\end{array} \\right\\rbrace\n",
    "\\end{equation}\n"
   ]
  },
  {
   "cell_type": "code",
   "execution_count": 6,
   "metadata": {},
   "outputs": [
    {
     "name": "stdout",
     "output_type": "stream",
     "text": [
      "mm=\n",
      " [[4.13400000e-03 0.00000000e+00 0.00000000e+00 0.00000000e+00\n",
      "  0.00000000e+00 0.00000000e+00]\n",
      " [0.00000000e+00 3.22566833e-05 0.00000000e+00 0.00000000e+00\n",
      "  0.00000000e+00 0.00000000e+00]\n",
      " [0.00000000e+00 0.00000000e+00 4.13400000e-03 0.00000000e+00\n",
      "  0.00000000e+00 0.00000000e+00]\n",
      " [0.00000000e+00 0.00000000e+00 0.00000000e+00 3.22566833e-05\n",
      "  0.00000000e+00 0.00000000e+00]\n",
      " [0.00000000e+00 0.00000000e+00 0.00000000e+00 0.00000000e+00\n",
      "  2.06700000e-03 0.00000000e+00]\n",
      " [0.00000000e+00 0.00000000e+00 0.00000000e+00 0.00000000e+00\n",
      "  0.00000000e+00 1.61283417e-05]]\n",
      "kk=\n",
      " [[ 9.57206284e+02  0.00000000e+00 -4.78603142e+02  2.11383054e+01\n",
      "   0.00000000e+00  0.00000000e+00]\n",
      " [ 0.00000000e+00  2.48962264e+00 -2.11383054e+01  6.22405660e-01\n",
      "   0.00000000e+00  0.00000000e+00]\n",
      " [-4.78603142e+02 -2.11383054e+01  9.57206284e+02  0.00000000e+00\n",
      "  -4.78603142e+02  2.11383054e+01]\n",
      " [ 2.11383054e+01  6.22405660e-01  0.00000000e+00  2.48962264e+00\n",
      "  -2.11383054e+01  6.22405660e-01]\n",
      " [ 0.00000000e+00  0.00000000e+00 -4.78603142e+02 -2.11383054e+01\n",
      "   4.78603142e+02 -2.11383054e+01]\n",
      " [ 0.00000000e+00  0.00000000e+00  2.11383054e+01  6.22405660e-01\n",
      "  -2.11383054e+01  1.24481132e+00]]\n",
      "bb=\n",
      " [[0. 0. 0. 0. 0. 0.]\n",
      " [0. 0. 0. 0. 0. 0.]\n",
      " [0. 0. 0. 0. 0. 0.]\n",
      " [0. 0. 0. 0. 0. 0.]\n",
      " [0. 0. 0. 0. 0. 0.]\n",
      " [0. 0. 0. 0. 0. 0.]]\n"
     ]
    }
   ],
   "source": [
    "#Encastrement du premier noeud, on exclu les deux premières lignes et les deux premières colonnes\n",
    "\n",
    "mm = np.delete(mm, 0, 0)\n",
    "mm = np.delete(mm, 0, 0)\n",
    "mm = np.delete(mm, 0, 1)\n",
    "mm = np.delete(mm, 0, 1)\n",
    "print('mm=\\n',mm)\n",
    "\n",
    "kk = np.delete(kk, 0, 0)\n",
    "kk = np.delete(kk, 0, 0)\n",
    "kk = np.delete(kk, 0, 1)\n",
    "kk = np.delete(kk, 0, 1)\n",
    "print('kk=\\n',kk)\n",
    "\n",
    "bb = np.delete(bb, 0, 0)\n",
    "bb = np.delete(bb, 0, 0)\n",
    "bb = np.delete(bb, 0, 1)\n",
    "bb = np.delete(bb, 0, 1)\n",
    "print('bb=\\n',bb)"
   ]
  },
  {
   "cell_type": "code",
   "execution_count": 7,
   "metadata": {},
   "outputs": [],
   "source": [
    "ms1=np.concatenate((np.zeros(mm.shape), mm), axis=0);\n",
    "ms2=np.concatenate((mm, bb), axis=0);\n",
    "ms=np.concatenate((ms1, ms2), axis=1);\n",
    "ks1=np.concatenate((-mm, np.zeros(mm.shape)), axis=0);\n",
    "ks2=np.concatenate((np.zeros(mm.shape), kk), axis=0);\n",
    "ks=np.concatenate((ks1, ks2), axis=1);\n",
    "\n",
    "#print(\"ms =\\n\",ms)\n",
    "#print(\"\\nks =\\n\",ks)"
   ]
  },
  {
   "cell_type": "markdown",
   "metadata": {},
   "source": [
    "### Calcul des valeurs propres"
   ]
  },
  {
   "cell_type": "code",
   "execution_count": 8,
   "metadata": {},
   "outputs": [
    {
     "name": "stdout",
     "output_type": "stream",
     "text": [
      "3.5141566368792465e-43\n",
      "256.3189747241011\n",
      "val_propres = [ 3.55668148e-14+693.34981608j  3.55668148e-14-693.34981608j\n",
      " -4.04794767e-15+538.97003226j -4.04794767e-15-538.97003226j\n",
      " -3.47461082e-15+327.81307834j -3.47461082e-15-327.81307834j\n",
      "  1.39345433e-14+186.06466265j  1.39345433e-14-186.06466265j\n",
      " -2.03935558e-14 +29.9257569j  -2.03935558e-14 -29.9257569j\n",
      " -1.99783391e-14+109.45132008j -1.99783391e-14-109.45132008j]\n",
      "\n",
      "pulsations propres (desordre) :\n",
      "\n",
      "omegar = [ 693.34981608 -693.34981608  538.97003226 -538.97003226  327.81307834\n",
      " -327.81307834  186.06466265 -186.06466265   29.9257569   -29.9257569\n",
      "  109.45132008 -109.45132008]\n",
      "\n",
      "******************************\n",
      "pulsations propres (ordre) :\n",
      "\n",
      "omegar[o_omegar] = [ 29.9257569  109.45132008 186.06466265 327.81307834 538.97003226\n",
      " 693.34981608]\n",
      "\n",
      "fr = [  4.76283214  17.41971862  29.6131108   52.17307183  85.77974481\n",
      " 110.35005052]\n"
     ]
    }
   ],
   "source": [
    "print(la.det(ms))\n",
    "print(np.linalg.cond(ms))\n",
    "val_propres, vect_propres = la.eig(-np.dot(la.inv(ms),ks));\n",
    "print(\"val_propres =\", val_propres)\n",
    "#print(\"vect_propres =\", vect_propres)\n",
    "lenn=(n-2)*2\n",
    "DDL=int(lenn/2)\n",
    "omegar=np.imag(val_propres);\n",
    "print(\"\\npulsations propres (desordre) :\\n\");\n",
    "print(\"omegar =\",omegar);\n",
    "o_omegar=np.argsort(omegar);\n",
    "#print(\"o_omegar =\",o_omegar);\n",
    "\n",
    "print(\"\\n******************************\");\n",
    "print(\"pulsations propres (ordre) :\");\n",
    "print(\"\\nomegar[o_omegar] =\",omegar[o_omegar][DDL:DDL*2:1]);\n",
    "print(\"\\nfr =\",omegar[o_omegar][DDL:DDL*2:1]/2/np.pi);\n",
    "br=-np.real(val_propres)/np.abs(val_propres);\n",
    "\n",
    "#print(\"******************************\");\n",
    "#print(\"amortissements modaux (desordre) :\");\n",
    "#print(\"br\",br);\n",
    "\n",
    "#print(\"******************************\");\n",
    "#print(\"amortissements modaux (ordre) :\");\n",
    "#print(\"br[o_omegar] =\",br[o_omegar][DDL:DDL*2:1]);\n"
   ]
  },
  {
   "cell_type": "code",
   "execution_count": 9,
   "metadata": {},
   "outputs": [
    {
     "name": "stdout",
     "output_type": "stream",
     "text": [
      "******************************\n",
      "modes propres :\n"
     ]
    }
   ],
   "source": [
    "vps=np.concatenate((np.zeros((2,lenn)),vect_propres[:,o_omegar]), axis=0)\n",
    "\n",
    "print(\"******************************\");\n",
    "print(\"modes propres :\");\n",
    "#print(\"vps =\",vps);"
   ]
  },
  {
   "cell_type": "markdown",
   "metadata": {},
   "source": [
    "### Tracé des courbes"
   ]
  },
  {
   "cell_type": "code",
   "execution_count": 10,
   "metadata": {
    "scrolled": true
   },
   "outputs": [
    {
     "data": {
      "text/plain": [
       "<matplotlib.legend.Legend at 0x1ebce385fd0>"
      ]
     },
     "execution_count": 10,
     "metadata": {},
     "output_type": "execute_result"
    },
    {
     "data": {
      "image/png": "[encoded data removed]",
      "text/plain": [
       "<Figure size 864x216 with 2 Axes>"
      ]
     },
     "metadata": {
      "needs_background": "light"
     },
     "output_type": "display_data"
    },
    {
     "data": {
      "image/png": "[encoded data removed]",
      "text/plain": [
       "<Figure size 864x216 with 1 Axes>"
      ]
     },
     "metadata": {
      "needs_background": "light"
     },
     "output_type": "display_data"
    }
   ],
   "source": [
    "plt.figure();\n",
    "plt.subplot(1,2,1);\n",
    "plt.plot(range(0,2),omegar[o_omegar][DDL:DDL+2:1],'.-');\n",
    "plt.xlabel(\"n\");\n",
    "plt.ylabel(\"$\\omega_{n}$\");\n",
    "plt.subplot(1,2,2);\n",
    "plt.plot(range(0,2),br[o_omegar][DDL:DDL+2:1],'.-');\n",
    "plt.xlabel(\"n\");\n",
    "plt.ylabel(\"$b_{n}$\");\n",
    "\n",
    "plt.figure();\n",
    "for i in range(0,2):\n",
    "    plt.plot(np.real(vps)[:DDL:2,DDL+i]/np.max(np.abs(np.real(vps)[:DDL:2,DDL+i])),'.-');\n",
    "plt.xlabel(\"n\");\n",
    "plt.ylabel(\"$\\Phi_{n}$\");\n",
    "plt.legend(['mode 1','mode 2','mode 3'])"
   ]
  },
  {
   "cell_type": "markdown",
   "metadata": {},
   "source": [
    "## Calcul des matrices avec prise en compte de l'amortissement"
   ]
  },
  {
   "cell_type": "markdown",
   "metadata": {},
   "source": [
    "### Matrice d'amortissement"
   ]
  },
  {
   "cell_type": "code",
   "execution_count": 11,
   "metadata": {},
   "outputs": [
    {
     "name": "stdout",
     "output_type": "stream",
     "text": [
      "w_1 = 29.925756897788137\n",
      "ksi = 0.01\n"
     ]
    }
   ],
   "source": [
    "#On calcul deus coefficients, A et B, de sorte à ce que [B] = A*[K] + B*[M]\n",
    "#Pour ce faire, il nous fait prendre 2 omega voisins et un facteyr ksi qu'il faudras déterminer expérimentalement\n",
    "\n",
    "w_1=omegar[o_omegar][DDL] # \n",
    "#w_2=omegar[o_omegar][DDL+1]\n",
    "#w_3=omegar[o_omegar][DDL+2]\n",
    "#w_4=omegar[o_omegar][DDL+3]\n",
    "#w_5=omegar[o_omegar][DDL+4]\n",
    "print(\"w_1 =\",w_1)\n",
    "\n",
    "#print(w_5)\n",
    "ksi=0.01\n",
    "#A=ksi*2/(w_1+w_5)\n",
    "#B=ksi*2*w_1*w_5/(w_1+w_5)\n",
    "\n",
    "print(\"ksi =\",ksi)\n",
    "#print('w_1,w_2=',w_1,w_2)\n",
    "#print(\"A =\",A)\n",
    "#print(\"B =\",B)"
   ]
  },
  {
   "cell_type": "code",
   "execution_count": 12,
   "metadata": {},
   "outputs": [
    {
     "name": "stdout",
     "output_type": "stream",
     "text": [
      "bb=\n",
      " [[2.47426158e-03 0.00000000e+00 0.00000000e+00 0.00000000e+00\n",
      "  0.00000000e+00 0.00000000e+00]\n",
      " [0.00000000e+00 1.93061133e-05 0.00000000e+00 0.00000000e+00\n",
      "  0.00000000e+00 0.00000000e+00]\n",
      " [0.00000000e+00 0.00000000e+00 2.47426158e-03 0.00000000e+00\n",
      "  0.00000000e+00 0.00000000e+00]\n",
      " [0.00000000e+00 0.00000000e+00 0.00000000e+00 1.93061133e-05\n",
      "  0.00000000e+00 0.00000000e+00]\n",
      " [0.00000000e+00 0.00000000e+00 0.00000000e+00 0.00000000e+00\n",
      "  1.23713079e-03 0.00000000e+00]\n",
      " [0.00000000e+00 0.00000000e+00 0.00000000e+00 0.00000000e+00\n",
      "  0.00000000e+00 9.65305664e-06]]\n",
      "mm=\n",
      " [[4.13400000e-03 0.00000000e+00 0.00000000e+00 0.00000000e+00\n",
      "  0.00000000e+00 0.00000000e+00]\n",
      " [0.00000000e+00 3.22566833e-05 0.00000000e+00 0.00000000e+00\n",
      "  0.00000000e+00 0.00000000e+00]\n",
      " [0.00000000e+00 0.00000000e+00 4.13400000e-03 0.00000000e+00\n",
      "  0.00000000e+00 0.00000000e+00]\n",
      " [0.00000000e+00 0.00000000e+00 0.00000000e+00 3.22566833e-05\n",
      "  0.00000000e+00 0.00000000e+00]\n",
      " [0.00000000e+00 0.00000000e+00 0.00000000e+00 0.00000000e+00\n",
      "  2.06700000e-03 0.00000000e+00]\n",
      " [0.00000000e+00 0.00000000e+00 0.00000000e+00 0.00000000e+00\n",
      "  0.00000000e+00 1.61283417e-05]]\n",
      "kk=\n",
      " [[ 9.57206284e+02  0.00000000e+00 -4.78603142e+02  2.11383054e+01\n",
      "   0.00000000e+00  0.00000000e+00]\n",
      " [ 0.00000000e+00  2.48962264e+00 -2.11383054e+01  6.22405660e-01\n",
      "   0.00000000e+00  0.00000000e+00]\n",
      " [-4.78603142e+02 -2.11383054e+01  9.57206284e+02  0.00000000e+00\n",
      "  -4.78603142e+02  2.11383054e+01]\n",
      " [ 2.11383054e+01  6.22405660e-01  0.00000000e+00  2.48962264e+00\n",
      "  -2.11383054e+01  6.22405660e-01]\n",
      " [ 0.00000000e+00  0.00000000e+00 -4.78603142e+02 -2.11383054e+01\n",
      "   4.78603142e+02 -2.11383054e+01]\n",
      " [ 0.00000000e+00  0.00000000e+00  2.11383054e+01  6.22405660e-01\n",
      "  -2.11383054e+01  1.24481132e+00]]\n"
     ]
    }
   ],
   "source": [
    "# Calcul des matrice de masse, de raideur et d'amortissement\n",
    "\n",
    "l=long/elm # l est la longueur d'un élément, c'est donc la longueur total divisé par le nombre d'élément\n",
    "\n",
    "# mm, kk et bb sont les matrices assemblées\n",
    "\n",
    "\n",
    "#bb= A*kk + B*mm # matrice d'amortissement lié à l'inertie et à la raideur\n",
    "\n",
    "bb= 2*ksi*w_1*mm # matrice d'amortissement lié à l'inertie # A PRIVILEGIER\n",
    "\n",
    "#bb= 2*ksi/w_1*kk # A ne pas faire\n",
    "\n",
    "print('bb=\\n',bb)\n",
    "print('mm=\\n',mm)\n",
    "print('kk=\\n',kk)\n"
   ]
  },
  {
   "cell_type": "markdown",
   "metadata": {},
   "source": [
    "### Mise en commun des matrices"
   ]
  },
  {
   "cell_type": "markdown",
   "metadata": {},
   "source": [
    "\\begin{equation}\n",
    "\\left[ \\begin{array}{c c} \\left[ 0 \\right] & \\left[ M \\right] \\\\ \\left[ M \\right] & \\left[ B \\right] \\end{array} \\right] \\left\\lbrace \\begin{array}{c} \\left\\lbrace \\ddot{q} \\right\\rbrace \\\\ \\left\\lbrace \\dot{q} \\right\\rbrace \\end{array} \\right\\rbrace + \\left[ \\begin{array}{c c} \\left[ -M \\right] & \\left[ 0 \\right] \\\\ \\left[ 0 \\right] & \\left[ K \\right] \\end{array} \\right] \\left\\lbrace \\begin{array}{c} \\left\\lbrace \\dot{q} \\right\\rbrace \\\\ \\left\\lbrace q \\right\\rbrace \\end{array} \\right\\rbrace = \\left\\lbrace \\begin{array}{c} \\left\\lbrace 0 \\right\\rbrace \\\\ \\left\\lbrace 0 \\right\\rbrace \\end{array} \\right\\rbrace\n",
    "\\end{equation}"
   ]
  },
  {
   "cell_type": "code",
   "execution_count": 13,
   "metadata": {},
   "outputs": [
    {
     "name": "stdout",
     "output_type": "stream",
     "text": [
      "ms_b =\n",
      " [[0.00000000e+00 0.00000000e+00 0.00000000e+00 0.00000000e+00\n",
      "  0.00000000e+00 0.00000000e+00 4.13400000e-03 0.00000000e+00\n",
      "  0.00000000e+00 0.00000000e+00 0.00000000e+00 0.00000000e+00]\n",
      " [0.00000000e+00 0.00000000e+00 0.00000000e+00 0.00000000e+00\n",
      "  0.00000000e+00 0.00000000e+00 0.00000000e+00 3.22566833e-05\n",
      "  0.00000000e+00 0.00000000e+00 0.00000000e+00 0.00000000e+00]\n",
      " [0.00000000e+00 0.00000000e+00 0.00000000e+00 0.00000000e+00\n",
      "  0.00000000e+00 0.00000000e+00 0.00000000e+00 0.00000000e+00\n",
      "  4.13400000e-03 0.00000000e+00 0.00000000e+00 0.00000000e+00]\n",
      " [0.00000000e+00 0.00000000e+00 0.00000000e+00 0.00000000e+00\n",
      "  0.00000000e+00 0.00000000e+00 0.00000000e+00 0.00000000e+00\n",
      "  0.00000000e+00 3.22566833e-05 0.00000000e+00 0.00000000e+00]\n",
      " [0.00000000e+00 0.00000000e+00 0.00000000e+00 0.00000000e+00\n",
      "  0.00000000e+00 0.00000000e+00 0.00000000e+00 0.00000000e+00\n",
      "  0.00000000e+00 0.00000000e+00 2.06700000e-03 0.00000000e+00]\n",
      " [0.00000000e+00 0.00000000e+00 0.00000000e+00 0.00000000e+00\n",
      "  0.00000000e+00 0.00000000e+00 0.00000000e+00 0.00000000e+00\n",
      "  0.00000000e+00 0.00000000e+00 0.00000000e+00 1.61283417e-05]\n",
      " [4.13400000e-03 0.00000000e+00 0.00000000e+00 0.00000000e+00\n",
      "  0.00000000e+00 0.00000000e+00 2.47426158e-03 0.00000000e+00\n",
      "  0.00000000e+00 0.00000000e+00 0.00000000e+00 0.00000000e+00]\n",
      " [0.00000000e+00 3.22566833e-05 0.00000000e+00 0.00000000e+00\n",
      "  0.00000000e+00 0.00000000e+00 0.00000000e+00 1.93061133e-05\n",
      "  0.00000000e+00 0.00000000e+00 0.00000000e+00 0.00000000e+00]\n",
      " [0.00000000e+00 0.00000000e+00 4.13400000e-03 0.00000000e+00\n",
      "  0.00000000e+00 0.00000000e+00 0.00000000e+00 0.00000000e+00\n",
      "  2.47426158e-03 0.00000000e+00 0.00000000e+00 0.00000000e+00]\n",
      " [0.00000000e+00 0.00000000e+00 0.00000000e+00 3.22566833e-05\n",
      "  0.00000000e+00 0.00000000e+00 0.00000000e+00 0.00000000e+00\n",
      "  0.00000000e+00 1.93061133e-05 0.00000000e+00 0.00000000e+00]\n",
      " [0.00000000e+00 0.00000000e+00 0.00000000e+00 0.00000000e+00\n",
      "  2.06700000e-03 0.00000000e+00 0.00000000e+00 0.00000000e+00\n",
      "  0.00000000e+00 0.00000000e+00 1.23713079e-03 0.00000000e+00]\n",
      " [0.00000000e+00 0.00000000e+00 0.00000000e+00 0.00000000e+00\n",
      "  0.00000000e+00 1.61283417e-05 0.00000000e+00 0.00000000e+00\n",
      "  0.00000000e+00 0.00000000e+00 0.00000000e+00 9.65305664e-06]]\n",
      "\n",
      "ks_b =\n",
      " [[-4.13400000e-03 -0.00000000e+00 -0.00000000e+00 -0.00000000e+00\n",
      "  -0.00000000e+00 -0.00000000e+00  0.00000000e+00  0.00000000e+00\n",
      "   0.00000000e+00  0.00000000e+00  0.00000000e+00  0.00000000e+00]\n",
      " [-0.00000000e+00 -3.22566833e-05 -0.00000000e+00 -0.00000000e+00\n",
      "  -0.00000000e+00 -0.00000000e+00  0.00000000e+00  0.00000000e+00\n",
      "   0.00000000e+00  0.00000000e+00  0.00000000e+00  0.00000000e+00]\n",
      " [-0.00000000e+00 -0.00000000e+00 -4.13400000e-03 -0.00000000e+00\n",
      "  -0.00000000e+00 -0.00000000e+00  0.00000000e+00  0.00000000e+00\n",
      "   0.00000000e+00  0.00000000e+00  0.00000000e+00  0.00000000e+00]\n",
      " [-0.00000000e+00 -0.00000000e+00 -0.00000000e+00 -3.22566833e-05\n",
      "  -0.00000000e+00 -0.00000000e+00  0.00000000e+00  0.00000000e+00\n",
      "   0.00000000e+00  0.00000000e+00  0.00000000e+00  0.00000000e+00]\n",
      " [-0.00000000e+00 -0.00000000e+00 -0.00000000e+00 -0.00000000e+00\n",
      "  -2.06700000e-03 -0.00000000e+00  0.00000000e+00  0.00000000e+00\n",
      "   0.00000000e+00  0.00000000e+00  0.00000000e+00  0.00000000e+00]\n",
      " [-0.00000000e+00 -0.00000000e+00 -0.00000000e+00 -0.00000000e+00\n",
      "  -0.00000000e+00 -1.61283417e-05  0.00000000e+00  0.00000000e+00\n",
      "   0.00000000e+00  0.00000000e+00  0.00000000e+00  0.00000000e+00]\n",
      " [ 0.00000000e+00  0.00000000e+00  0.00000000e+00  0.00000000e+00\n",
      "   0.00000000e+00  0.00000000e+00  9.57206284e+02  0.00000000e+00\n",
      "  -4.78603142e+02  2.11383054e+01  0.00000000e+00  0.00000000e+00]\n",
      " [ 0.00000000e+00  0.00000000e+00  0.00000000e+00  0.00000000e+00\n",
      "   0.00000000e+00  0.00000000e+00  0.00000000e+00  2.48962264e+00\n",
      "  -2.11383054e+01  6.22405660e-01  0.00000000e+00  0.00000000e+00]\n",
      " [ 0.00000000e+00  0.00000000e+00  0.00000000e+00  0.00000000e+00\n",
      "   0.00000000e+00  0.00000000e+00 -4.78603142e+02 -2.11383054e+01\n",
      "   9.57206284e+02  0.00000000e+00 -4.78603142e+02  2.11383054e+01]\n",
      " [ 0.00000000e+00  0.00000000e+00  0.00000000e+00  0.00000000e+00\n",
      "   0.00000000e+00  0.00000000e+00  2.11383054e+01  6.22405660e-01\n",
      "   0.00000000e+00  2.48962264e+00 -2.11383054e+01  6.22405660e-01]\n",
      " [ 0.00000000e+00  0.00000000e+00  0.00000000e+00  0.00000000e+00\n",
      "   0.00000000e+00  0.00000000e+00  0.00000000e+00  0.00000000e+00\n",
      "  -4.78603142e+02 -2.11383054e+01  4.78603142e+02 -2.11383054e+01]\n",
      " [ 0.00000000e+00  0.00000000e+00  0.00000000e+00  0.00000000e+00\n",
      "   0.00000000e+00  0.00000000e+00  0.00000000e+00  0.00000000e+00\n",
      "   2.11383054e+01  6.22405660e-01 -2.11383054e+01  1.24481132e+00]]\n"
     ]
    }
   ],
   "source": [
    "ms1_b=np.concatenate((np.zeros(mm.shape), mm), axis=0);\n",
    "ms2_b=np.concatenate((mm, bb), axis=0);\n",
    "ms_b=np.concatenate((ms1_b, ms2_b), axis=1);\n",
    "ks1_b=np.concatenate((-mm, np.zeros(mm.shape)), axis=0);\n",
    "ks2_b=np.concatenate((np.zeros(mm.shape), kk), axis=0);\n",
    "ks_b=np.concatenate((ks1_b, ks2_b), axis=1);\n",
    "\n",
    "print(\"ms_b =\\n\",ms_b)\n",
    "print(\"\\nks_b =\\n\",ks_b)"
   ]
  },
  {
   "cell_type": "markdown",
   "metadata": {},
   "source": [
    "### Calcul des valeurs propres"
   ]
  },
  {
   "cell_type": "markdown",
   "metadata": {},
   "source": [
    "725298.911244594 (sans amortissement)\n",
    "\n",
    "\n",
    "121075384563.68018 ($\\xi=0.01$/4 éléments)\n",
    "\n",
    "\n",
    "3026789069043.6553 ($\\xi=0.05$/4 éléments)\n",
    "\n",
    "\n",
    "136104490963463.84 ($\\xi=0.01$/8 éléments)"
   ]
  },
  {
   "cell_type": "code",
   "execution_count": 14,
   "metadata": {},
   "outputs": [
    {
     "name": "stdout",
     "output_type": "stream",
     "text": [
      "3.5141566368792465e-43\n",
      "462.3611861739383\n",
      "val_propres_b = [-0.29925757+693.3497515j  -0.29925757-693.3497515j\n",
      " -0.29925757+538.96994918j -0.29925757-538.96994918j\n",
      " -0.29925757+327.81294175j -0.29925757-327.81294175j\n",
      " -0.29925757+186.06442199j -0.29925757-186.06442199j\n",
      " -0.29925757 +29.92426057j -0.29925757 -29.92426057j\n",
      " -0.29925757+109.45091097j -0.29925757-109.45091097j]\n",
      "\n",
      "pulsations propres (desordre) :\n",
      "\n",
      "omegar_b = [ 693.3497515  -693.3497515   538.96994918 -538.96994918  327.81294175\n",
      " -327.81294175  186.06442199 -186.06442199   29.92426057  -29.92426057\n",
      "  109.45091097 -109.45091097]\n",
      "\n",
      "******************************\n",
      "\n",
      "pulsations propres (ordre) :\n",
      "\n",
      "omegar_b[o_omegar_b] = [ 29.92426057 109.45091097 186.06442199 327.81294175 538.96994918\n",
      " 693.3497515 ]\n",
      "\n",
      "fr = [  4.76259399  17.41965351  29.61307249  52.17305009  85.77973159\n",
      " 110.35004024]\n"
     ]
    }
   ],
   "source": [
    "print(la.det(ms_b))\n",
    "print(np.linalg.cond(ms_b))\n",
    "val_propres_b, vect_propres_b = la.eig(-np.dot(la.inv(ms_b),ks_b));\n",
    "print(\"val_propres_b =\", val_propres_b)\n",
    "#print(\"vect_propres_b =\", vect_propres_b)\n",
    "lenn=(n-2)*2\n",
    "DDL=int(lenn/2)\n",
    "omegar_b=np.imag(val_propres_b);\n",
    "print(\"\\npulsations propres (desordre) :\\n\");\n",
    "print(\"omegar_b =\",omegar_b);\n",
    "o_omegar_b=np.argsort(omegar_b);\n",
    "#print(\"o_omegar_b =\",o_omegar_b);\n",
    "\n",
    "print(\"\\n******************************\");\n",
    "print(\"\\npulsations propres (ordre) :\");\n",
    "print(\"\\nomegar_b[o_omegar_b] =\",omegar_b[o_omegar_b][DDL:DDL*2:1]);\n",
    "print(\"\\nfr =\",omegar_b[o_omegar_b][DDL:DDL*2:1]/2/np.pi);\n",
    "br_b=-np.real(val_propres_b)/np.abs(val_propres_b);\n",
    "\n",
    "#print(\"******************************\");\n",
    "#print(\"amortissements modaux (desordre) :\");\n",
    "#print(\"br_b\",br_b);\n",
    "\n",
    "#print(\"******************************\");\n",
    "#print(\"amortissements modaux (ordre) :\");\n",
    "#print(\"br_b[o_omegar_b] =\",br_b[o_omegar_b][DDL:DDL*2:1]);\n"
   ]
  },
  {
   "cell_type": "code",
   "execution_count": 15,
   "metadata": {},
   "outputs": [
    {
     "name": "stdout",
     "output_type": "stream",
     "text": [
      "******************************\n",
      "modes propres :\n"
     ]
    }
   ],
   "source": [
    "vps_b=np.concatenate((np.zeros((2,lenn)),vect_propres_b[:,o_omegar_b]), axis=0)\n",
    "\n",
    "print(\"******************************\");\n",
    "print(\"modes propres :\");\n",
    "#print(\"vps_b =\",vps_b);"
   ]
  },
  {
   "cell_type": "code",
   "execution_count": 16,
   "metadata": {},
   "outputs": [
    {
     "data": {
      "text/plain": [
       "<matplotlib.legend.Legend at 0x1ebcf594df0>"
      ]
     },
     "execution_count": 16,
     "metadata": {},
     "output_type": "execute_result"
    },
    {
     "data": {
      "image/png": "[encoded data removed]",
      "text/plain": [
       "<Figure size 864x216 with 2 Axes>"
      ]
     },
     "metadata": {
      "needs_background": "light"
     },
     "output_type": "display_data"
    },
    {
     "data": {
      "image/png": "[encoded data removed]",
      "text/plain": [
       "<Figure size 864x216 with 1 Axes>"
      ]
     },
     "metadata": {
      "needs_background": "light"
     },
     "output_type": "display_data"
    }
   ],
   "source": [
    "plt.figure();\n",
    "plt.subplot(1,2,1);\n",
    "plt.plot(range(0,2),omegar_b[o_omegar_b][DDL:DDL+2:1],'.-');\n",
    "plt.xlabel(\"n\");\n",
    "plt.ylabel(\"$\\omega_{n}$\");\n",
    "plt.subplot(1,2,2);\n",
    "plt.plot(range(0,2),br_b[o_omegar_b][DDL:DDL+2:1],'.-');\n",
    "plt.xlabel(\"n\");\n",
    "plt.ylabel(\"$b_{n}$\");\n",
    "\n",
    "plt.figure();\n",
    "for i in range(0,2):\n",
    "    plt.plot(np.real(vps_b)[:DDL:2,DDL+i]/np.max(np.abs(np.real(vps_b)[:DDL:2,DDL+i])),'.-');\n",
    "plt.xlabel(\"n\");\n",
    "plt.ylabel(\"$\\Phi_{n}$\");\n",
    "plt.legend(['mode 1','mode 2','mode 3'])"
   ]
  },
  {
   "cell_type": "code",
   "execution_count": 17,
   "metadata": {},
   "outputs": [
    {
     "data": {
      "image/png": "[encoded data removed]",
      "text/plain": [
       "<Figure size 864x216 with 1 Axes>"
      ]
     },
     "metadata": {
      "needs_background": "light"
     },
     "output_type": "display_data"
    }
   ],
   "source": [
    "hh=0.01;\n",
    "\n",
    "tt=np.arange(0,20,hh);\n",
    "\n",
    "def force(t):\n",
    "    tmax=hh;\n",
    "    Fmax=1/tmax;\n",
    "    if t<=tmax :\n",
    "        f=t*Fmax/tmax;\n",
    "    elif (t>tmax)and(t<=2*tmax) :\n",
    "        f=-Fmax/tmax*t+2*Fmax;\n",
    "    else :\n",
    "        f=0\n",
    "    return f\n",
    "\n",
    "ff=np.zeros(tt.shape)\n",
    "\n",
    "\n",
    "for ii in range(len(tt)):\n",
    "    ff[ii]=force(tt[ii])\n",
    "    \n",
    "plt.plot(tt[0:50],ff[0:50],'.-');\n",
    "plt.xlabel('t');\n",
    "plt.ylabel('F');"
   ]
  },
  {
   "cell_type": "code",
   "execution_count": 18,
   "metadata": {},
   "outputs": [
    {
     "name": "stdout",
     "output_type": "stream",
     "text": [
      "kk [[ 9.57206284e+02  0.00000000e+00 -4.78603142e+02  2.11383054e+01\n",
      "   0.00000000e+00  0.00000000e+00]\n",
      " [ 0.00000000e+00  2.48962264e+00 -2.11383054e+01  6.22405660e-01\n",
      "   0.00000000e+00  0.00000000e+00]\n",
      " [-4.78603142e+02 -2.11383054e+01  9.57206284e+02  0.00000000e+00\n",
      "  -4.78603142e+02  2.11383054e+01]\n",
      " [ 2.11383054e+01  6.22405660e-01  0.00000000e+00  2.48962264e+00\n",
      "  -2.11383054e+01  6.22405660e-01]\n",
      " [ 0.00000000e+00  0.00000000e+00 -4.78603142e+02 -2.11383054e+01\n",
      "   4.78603142e+02 -2.11383054e+01]\n",
      " [ 0.00000000e+00  0.00000000e+00  2.11383054e+01  6.22405660e-01\n",
      "  -2.11383054e+01  1.24481132e+00]]\n",
      "bb [[2.47426158e-03 0.00000000e+00 0.00000000e+00 0.00000000e+00\n",
      "  0.00000000e+00 0.00000000e+00]\n",
      " [0.00000000e+00 1.93061133e-05 0.00000000e+00 0.00000000e+00\n",
      "  0.00000000e+00 0.00000000e+00]\n",
      " [0.00000000e+00 0.00000000e+00 2.47426158e-03 0.00000000e+00\n",
      "  0.00000000e+00 0.00000000e+00]\n",
      " [0.00000000e+00 0.00000000e+00 0.00000000e+00 1.93061133e-05\n",
      "  0.00000000e+00 0.00000000e+00]\n",
      " [0.00000000e+00 0.00000000e+00 0.00000000e+00 0.00000000e+00\n",
      "  1.23713079e-03 0.00000000e+00]\n",
      " [0.00000000e+00 0.00000000e+00 0.00000000e+00 0.00000000e+00\n",
      "  0.00000000e+00 9.65305664e-06]]\n",
      "mm [[4.13400000e-03 0.00000000e+00 0.00000000e+00 0.00000000e+00\n",
      "  0.00000000e+00 0.00000000e+00]\n",
      " [0.00000000e+00 3.22566833e-05 0.00000000e+00 0.00000000e+00\n",
      "  0.00000000e+00 0.00000000e+00]\n",
      " [0.00000000e+00 0.00000000e+00 4.13400000e-03 0.00000000e+00\n",
      "  0.00000000e+00 0.00000000e+00]\n",
      " [0.00000000e+00 0.00000000e+00 0.00000000e+00 3.22566833e-05\n",
      "  0.00000000e+00 0.00000000e+00]\n",
      " [0.00000000e+00 0.00000000e+00 0.00000000e+00 0.00000000e+00\n",
      "  2.06700000e-03 0.00000000e+00]\n",
      " [0.00000000e+00 0.00000000e+00 0.00000000e+00 0.00000000e+00\n",
      "  0.00000000e+00 1.61283417e-05]]\n",
      "kk.shape (6, 6)\n",
      "bb.shape (6, 6)\n",
      "mm.shape (6, 6)\n",
      "DDL 6\n"
     ]
    }
   ],
   "source": [
    "print(\"kk\",kk)\n",
    "print(\"bb\",bb)\n",
    "#bb=np.abs(bb)\n",
    "#print(\"bb\",bb)\n",
    "print(\"mm\",mm)\n",
    "#mm=np.abs(mm)\n",
    "#print(\"mm\",mm)\n",
    "\n",
    "print(\"kk.shape\",kk.shape)\n",
    "print(\"bb.shape\",bb.shape)\n",
    "print(\"mm.shape\",mm.shape)\n",
    "print(\"DDL\",DDL)\n",
    "\n",
    "def cauchy(U,t):\n",
    "    Udot = np.zeros(U.shape)\n",
    "    #print(\"test\",len(U))\n",
    "    for i in range(DDL):\n",
    "        #print(\"i\",i,2*i,2*i+1)\n",
    "        Udot[2*i]=U[2*i+1]\n",
    "        Udot[2*i+1]=(-np.vdot(kk[i,:],U[0::2])-np.vdot(bb[i,:],U[1::2]))/mm[i,i]\n",
    "    #print(Udot,Udot[len(U)-3])\n",
    "    #print(mm,mm[DDL-2,DDL-2])\n",
    "    #print(t,force(t))\n",
    "    Udot[len(U)-3]=Udot[len(U)-3]+force(t)/mm[DDL-2,DDL-2]\n",
    "    return Udot"
   ]
  },
  {
   "cell_type": "code",
   "execution_count": 20,
   "metadata": {},
   "outputs": [
    {
     "data": {
      "text/plain": [
       "<matplotlib.legend.Legend at 0x1ebcf68ddf0>"
      ]
     },
     "execution_count": 20,
     "metadata": {},
     "output_type": "execute_result"
    },
    {
     "data": {
      "image/png": "[encoded data removed]",
      "text/plain": [
       "<Figure size 864x216 with 1 Axes>"
      ]
     },
     "metadata": {
      "needs_background": "light"
     },
     "output_type": "display_data"
    }
   ],
   "source": [
    "y0=np.zeros(2*DDL);\n",
    "yode=odeint(cauchy,y0,tt);\n",
    "\n",
    "#ydot=np.zeros(yode.shape);\n",
    "#for ii in range(len(tt)):\n",
    "#    ydot[ii,:]=cauchy(yode[ii,:],tt[ii]);\n",
    "\n",
    "plt.figure();\n",
    "plt.subplot(1,2,1);\n",
    "plt.plot(tt,yode[:,1::4]);\n",
    "plt.xlabel(\"t\");\n",
    "plt.ylabel(\"y_point\");\n",
    "plt.legend(['$m_{1}$','$m_{2}$','$m_{3}$'])\n",
    "\n",
    "plt.subplot(1,2,2);\n",
    "plt.plot(tt,ydot[2:50,1:2*DDL:2]);\n",
    "plt.xlabel(\"t\");\n",
    "plt.ylabel(\"$\\ddot{y}$\");\n",
    "plt.legend(['$m_{1}$','$m_{2}$','$m_{3}$'])"
   ]
  },
  {
   "cell_type": "markdown",
   "metadata": {},
   "source": [
    "Cette version de la tâche est incomplette et à dû etre abrégé pour etre rendu avec les autres rapports. "
   ]
  },
  {
   "cell_type": "code",
   "execution_count": null,
   "metadata": {},
   "outputs": [],
   "source": []
  }
 ],
 "metadata": {
  "kernelspec": {
   "display_name": "Python 3",
   "language": "python",
   "name": "python3"
  },
  "language_info": {
   "codemirror_mode": {
    "name": "ipython",
    "version": 3
   },
   "file_extension": ".py",
   "mimetype": "text/x-python",
   "name": "python",
   "nbconvert_exporter": "python",
   "pygments_lexer": "ipython3",
   "version": "3.8.5"
  }
 },
 "nbformat": 4,
 "nbformat_minor": 4
}
