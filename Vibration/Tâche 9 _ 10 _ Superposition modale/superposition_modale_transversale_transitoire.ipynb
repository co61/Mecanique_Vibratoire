{
 "cells": [
  {
   "cell_type": "markdown",
   "metadata": {},
   "source": [
    "# Régime d'oscillations libres par superposition modale (transitoire)"
   ]
  },
  {
   "cell_type": "code",
   "execution_count": null,
   "metadata": {},
   "outputs": [],
   "source": [
    "import numpy as np\n",
    "import matplotlib.pyplot as plt\n",
    "import scipy.linalg as la\n",
    "from scipy.integrate import odeint\n",
    "import scipy.fftpack\n",
    "from scipy import signal\n",
    "plt.rcParams['figure.figsize'] = [12, 3]\n",
    "from scipy import optimize\n",
    "import functools\n",
    "from matplotlib import cm\n",
    "from matplotlib.ticker import LinearLocator, FormatStrFormatter"
   ]
  },
  {
   "cell_type": "markdown",
   "metadata": {},
   "source": [
    "## Paramètres de la poutre"
   ]
  },
  {
   "cell_type": "code",
   "execution_count": null,
   "metadata": {},
   "outputs": [],
   "source": [
    "n_elem=10; # nombre d'éléments --> A MODIFIER\n",
    "E=203000000000; # module d'Young --> Acier inoxydable\n",
    "rho=7900; # masse volumique --> Acier inoxydable\n",
    "e=0.0005; # épaisseur de la lame --> Réglet SAM  781-3\n",
    "b=0.013; # largeur de la lame --> Réglet SAM  781-3\n",
    "l=0.270; # longueur de la lame --> Réglet SAM  781-3\n",
    "ksi_rayleigh=0.0052; # taux d'amortissement (visqueux) de la lame --> A MODIFIER expérimental, oscillation libre\n",
    "S=e*b; # Section de la poutre\n",
    "x=np.linspace(0,l,101); # Coordonnées le long de la poutre\n",
    "m = rho*S*l #masse totale\n",
    "print(\"m=\",m)"
   ]
  },
  {
   "cell_type": "markdown",
   "metadata": {},
   "source": [
    "La masse de l'accéléromètres est de 4g, soit 30% de la masse du réglet"
   ]
  },
  {
   "cell_type": "markdown",
   "metadata": {},
   "source": [
    "## Paramètres d'intégration"
   ]
  },
  {
   "cell_type": "code",
   "execution_count": null,
   "metadata": {},
   "outputs": [],
   "source": [
    "deltat=0.02; # pas de temps --> A MODIFIER\n",
    "duree=7; # plage d'integration --> A MODIFIER\n",
    "nb_pt=int(duree/deltat); # Discrétisation temporelle\n",
    "qmax=0.03; # deplacement du point sollicite --> A MODIFIER"
   ]
  },
  {
   "cell_type": "markdown",
   "metadata": {},
   "source": [
    "## Construction des matrices de masse et de raideur"
   ]
  },
  {
   "cell_type": "markdown",
   "metadata": {},
   "source": [
    "\\begin{equation}\n",
    "\\left[ M \\right] =\n",
    "\\frac{\\rho S l}{420} \\left[ \\begin{array}{c c}\n",
    "156 & 22l & 54 & -13l \\\\\n",
    "22l & 4l^2 & 13l & -3l^2 \\\\\n",
    "54 & 13l & 156 & -22l \\\\\n",
    "-13l & -3l^2 & -22l & 4l^2 \n",
    "\\end{array} \\right]\n",
    "\\end{equation}\n",
    "\n",
    "\\begin{equation}\n",
    "\\left[ K \\right] =\n",
    "\\frac{EI}{l^3} \\left[ \\begin{array}{c c}\n",
    "12 & 6l & -12 & 6l \\\\\n",
    "6l & 4l^2 & -6l & 2l^2 \\\\\n",
    "-12 & -6l & 12 & -6l \\\\\n",
    "6l & 2l^2 & -6l & 4l^2\n",
    "\\end{array} \\right]\n",
    "\\end{equation}\n"
   ]
  },
  {
   "cell_type": "code",
   "execution_count": null,
   "metadata": {},
   "outputs": [],
   "source": [
    "# A[ligne,colonne]"
   ]
  },
  {
   "cell_type": "code",
   "execution_count": null,
   "metadata": {},
   "outputs": [],
   "source": [
    "Iz = b*e**3/12\n",
    "l_elem=l/n_elem; # longueur d'un élément\n",
    "\n",
    "k_elem=E*Iz/(l_elem**3)*np.array([[12,6*l_elem,-12,6*l_elem],[6*l_elem,4*l_elem**2,-6*l_elem,2*l_elem**2],[-12,-6*l_elem,12,-6*l_elem],[6*l_elem,2*l_elem**2,-6*l_elem,4*l_elem**2]]);\n",
    "m_elem=rho*S*l_elem/420*np.array([[156,22*l_elem,54,-13*l_elem],[22*l_elem,4*l_elem**2,13*l_elem,-3*l_elem**2],[54,13*l_elem,156,-22*l_elem],[-13*l_elem,-3*l_elem**2,-22*l_elem,4*l_elem**2]]);\n",
    "\n",
    "\n",
    "k_ass0=np.zeros(((n_elem+1)*2,(n_elem+1)*2));\n",
    "m_ass0=np.zeros(((n_elem+1)*2,(n_elem+1)*2));\n",
    "\n",
    "#print(\"k_ass0 =\",k_ass0);\n",
    "#print(\"m_ass0 =\",m_ass0);\n",
    "\n",
    "for j in range(n_elem):\n",
    "    k_ass0[j*2:j*2+4,j*2:j*2+4]=k_ass0[j*2:j*2+4,j*2:j*2+4]+k_elem;\n",
    "    m_ass0[j*2:j*2+4,j*2:j*2+4]=m_ass0[j*2:j*2+4,j*2:j*2+4]+m_elem;\n",
    "\n",
    "k_ass=k_ass0[2:2*(n_elem+1),2:2*(n_elem+1)];\n",
    "m_ass=m_ass0[2:2*(n_elem+1),2:2*(n_elem+1)];\n",
    "\n",
    "m_ass[len(m_ass[0,:])-2,len(m_ass[:,0])-2] += 0.004 #accéléromètre\n",
    "\n",
    "print(\"k_ass =\\n\",k_ass);\n",
    "print(\"m_ass =\\n\",m_ass);"
   ]
  },
  {
   "cell_type": "markdown",
   "metadata": {},
   "source": [
    "## Pulsations et modes analytiques"
   ]
  },
  {
   "cell_type": "markdown",
   "metadata": {},
   "source": [
    "$k \\in \\mathbb{N}^{*}$,\n",
    "\\begin{equation}\n",
    "\\omega_{k} = ((2k-1) \\frac{\\pi}{2})^2  \\sqrt{\\frac{EI_z}{ml^3}}\n",
    "\\end{equation}\n",
    "\n",
    "\\begin{equation}\n",
    "\\phi_{k}(x)= cf \\ page \\ 45\n",
    "\\end{equation}"
   ]
  },
  {
   "cell_type": "code",
   "execution_count": null,
   "metadata": {},
   "outputs": [],
   "source": [
    "omega_ana=np.zeros((n_elem,1));\n",
    "Phi_ana=np.zeros((n_elem,len(x)));\n",
    "for k in range(n_elem):\n",
    "    if k==0:\n",
    "        omega_ana[k] = (1.87**2)*np.sqrt(E*Iz/(m*l**3))\n",
    "    else:\n",
    "        omega_ana[k]=(((2*(k+1)-1)*np.pi/2)**2)*np.sqrt(E*Iz/(m*l**3));\n",
    "    for j in range(len(x)):\n",
    "        A = (((omega_ana[k]**2)*rho*S/E/Iz)**(1/4))*x[j]\n",
    "        B = (((omega_ana[k]**2)*rho*S/E/Iz)**(1/4))*l\n",
    "        Phi_ana[k,j]=np.cos(A)-np.cosh(A)+(np.sin(B)-np.sinh(B))/(np.cos(B)+np.cosh(B))*(np.sin(A)-np.sinh(A));\n",
    "        \n",
    "print(\"omega_ana = \", omega_ana)\n",
    "\n",
    "\n",
    "\n",
    "#print(\"Phi_ana = \", Phi_ana)\n",
    "print(\"freq = \",omega_ana/2/np.pi)"
   ]
  },
  {
   "cell_type": "markdown",
   "metadata": {},
   "source": [
    "## Résolution du problème aux valeurs propres"
   ]
  },
  {
   "cell_type": "markdown",
   "metadata": {},
   "source": [
    "La détermination des pulsations propres et des modes propres consiste à résoudre le problème suivant :\n",
    "\n",
    "\\begin{equation}\n",
    "det \\left( \\left[ M \\right]^{-1} \\left[ K \\right] - \\omega^{2}_{i} \\left[ I \\right] \\right) = 0\n",
    "\\end{equation}"
   ]
  },
  {
   "cell_type": "code",
   "execution_count": null,
   "metadata": {},
   "outputs": [],
   "source": [
    "val_propres, vect_propres = la.eig(np.dot(la.inv(m_ass),k_ass)); # problème aux valeurs propres\n",
    "omegar=np.sqrt(np.real(val_propres));\n",
    "print(\"omegar =\",omegar);\n",
    "o_omegar=np.argsort(omegar); # tri des modes (dans le sens croissant)\n",
    "print(\"o_omegar =\",o_omegar);\n",
    "print(\"omegar[o_omegar] =\",omegar[o_omegar]);\n",
    "\n",
    "#On sépare les vecteurs propres correspondants aux déplacements tranversaux des déplacements angulaires:\n",
    "#Conditions aux limites\n",
    "vps_T = np.zeros((1,2*n_elem)) #Transversaux\n",
    "vps_A = np.zeros((1,2*n_elem)) #Angulaire\n",
    "#print(vps_T)\n",
    "for i in range(n_elem):\n",
    "    vps_T = np.concatenate((vps_T,[vect_propres[i*2,:]]),axis=0)\n",
    "    vps_A = np.concatenate((vps_A,[vect_propres[i*2+1,:]]),axis=0)\n",
    "\n",
    "vps=np.concatenate((np.zeros((1,2*n_elem)),vect_propres), axis=0); # ajout des conditions aux limites\n",
    "#print(\"vps =\",vps);\n",
    "print(\"vps[o_omegar] =\",np.real(vps[:,o_omegar]));\n",
    "print(\"vps_T= \",vps_T)"
   ]
  },
  {
   "cell_type": "code",
   "execution_count": null,
   "metadata": {},
   "outputs": [],
   "source": [
    "plt.figure();\n",
    "plt.plot(range(1,n_elem+1),omega_ana,'-o');\n",
    "plt.plot(range(1,2*n_elem+1),omegar[o_omegar],'--o');\n",
    "plt.xlabel(\"n\");\n",
    "plt.ylabel(\"$\\omega_{n}$\");\n",
    "#plt.xlim(0.75,1.25)\n",
    "#plt.ylim(0,100)\n",
    "plt.figure();\n",
    "\n",
    "#for i in range(n_elem):\n",
    "for i in range(3):    #3 premiers modes\n",
    "    plt.plot(x,Phi_ana[i,:]/np.max(np.abs(Phi_ana[i,:])),'-');\n",
    "#print(np.arange(0,2*n_elem-1,1)/(n_elem)*0.265)\n",
    "#for i in range(2*n_elem):\n",
    "for i in range(3):\n",
    "    plt.plot(np.arange(0,n_elem+1,1)/(n_elem)*0.265,-np.real(vps_T[:,o_omegar][:,i])/np.max(np.abs(np.real(vps_T[:,o_omegar][:,i])))*np.sign(np.real(vps_T[:,o_omegar][1,i])),'--o');\n",
    "\n",
    "plt.xlabel(\"n\");\n",
    "plt.ylabel(\"$\\Phi_{n}$\");\n"
   ]
  },
  {
   "cell_type": "markdown",
   "metadata": {},
   "source": [
    "## Application des conditions initiales"
   ]
  },
  {
   "cell_type": "markdown",
   "metadata": {},
   "source": [
    "Le vecteur $\\left\\lbrace q \\right\\rbrace$ s'écrit comme la combinaison linéaire des $N$ vecteurs propres $\\left\\lbrace x_{i=1..N} \\right\\rbrace$ :\n",
    "\n",
    "\\begin{equation}\n",
    "\\left\\lbrace q \\right\\rbrace = \\Sigma^{N}_{i=1} \\eta_{i} \\left\\lbrace x_{i} \\right\\rbrace\n",
    "\\end{equation}"
   ]
  },
  {
   "cell_type": "code",
   "execution_count": null,
   "metadata": {},
   "outputs": [],
   "source": [
    "#fonction de la position du réglet, inspiré de l'ex 1 qu 2 TD1 :\n",
    "def deplInit(x):\n",
    "    return 3*qmax/(l**3)*(l*(x**2)/2 - (x**3)/6)\n",
    "    \n",
    "#déplacement angulaire = dérivée\n",
    "def deplInitAngl(x):\n",
    "    return 3*qmax/(l**3)*(l*x - (x**2)/2)\n",
    "\n",
    "xx = np.linspace(0,l,1000)\n",
    "plt.plot(xx,deplInit(xx))"
   ]
  },
  {
   "cell_type": "code",
   "execution_count": null,
   "metadata": {},
   "outputs": [],
   "source": [
    "qq=np.zeros((2*n_elem,nb_pt));\n",
    "eta=np.zeros((2*n_elem,nb_pt));\n",
    "qq[0,0]=0\n",
    "for i in range(1,2*n_elem):\n",
    "    if(i%2==0):\n",
    "        qq[i,0]=deplInit(i*l/2/n_elem) # déformation homogène de la poutre A modifier pour correspondre td1 ex2 qu2, pour les angles dériver la formule en x.\n",
    "    else:\n",
    "        qq[i,0]=deplInitAngl(i*l/2/n_elem)\n",
    "print(\"shape(qq) = \",np.shape(qq))\n",
    "print(\"shape(vps[1:2*n_elem+1]) = \",np.shape(vps[1:2*n_elem+1]))\n",
    "eta[:,0]=np.dot(np.linalg.inv(vps[1:2*n_elem+1,o_omegar]),qq[:,0]); # détermination des composantes initiales dans la base modale à partir de celles dans la base physique\n",
    "print(eta[:,0]);\n",
    "print(np.shape(eta))"
   ]
  },
  {
   "cell_type": "markdown",
   "metadata": {},
   "source": [
    "## Affectation des paramètres et des efforts extérieurs"
   ]
  },
  {
   "cell_type": "code",
   "execution_count": null,
   "metadata": {},
   "outputs": [],
   "source": [
    "ksi=np.zeros((2*n_elem,1));\n",
    "omegar_red=np.zeros((2*n_elem,1));\n",
    "dot_eta_init=np.zeros((2*n_elem,1));\n",
    "gg=np.zeros((2*n_elem,nb_pt));\n",
    "t=np.linspace(0,duree,nb_pt);\n",
    "for i in range(2*n_elem):\n",
    "    ksi[i]=ksi_rayleigh; # taux d'amortissement\n",
    "    omegar_red[i]=omegar[o_omegar][i]*np.sqrt(1-ksi[i]**2); # pulsation réduite\n",
    "    dot_eta_init[i]=0; # vitesses initiales nulles\n",
    "    for pt in range(nb_pt):\n",
    "        gg[n_elem-1,pt]=0; # force constante\n",
    "        #gg[n_elem-1,pt]=1000*t[pt]/duree; # force progressive\n",
    "        #gg[n_elem-1,pt]=1000*np.sin(2*np.pi*1200*t[pt]); # force sinusoïdale\n",
    "        #if 0<pt<2: #impulsion\n",
    "        #    gg[n_elem-1,pt]=1000;\n",
    "        #else:\n",
    "        #    gg[n_elem-1,pt]=0;\n",
    "\n",
    "plt.plot(t,gg[n_elem-1,:],'-o')\n",
    "plt.xlabel(\"t\");\n",
    "plt.ylabel(\"$g(t)$\");"
   ]
  },
  {
   "cell_type": "markdown",
   "metadata": {},
   "source": [
    "## Intégration numérique"
   ]
  },
  {
   "cell_type": "markdown",
   "metadata": {},
   "source": [
    "Le changement de base permet d'obtenir pour chaque mode i ($1\\le i \\le n_{modes}$) :\n",
    "\n",
    "\\begin{equation}\n",
    "\\lambda_{i} \\eta_{i} + 2 \\xi_{i} \\omega_{i} \\dot{\\eta_{i}} + \\ddot{\\eta_{i}} = \\frac{\\left\\lbrace x_{i} \\right\\rbrace^{T} \\left\\lbrace F \\right\\rbrace}{\\mu_{i}} = \\frac{\\left\\lbrace x_{i} \\right\\rbrace^{T} \\left\\lbrace g(t) \\right\\rbrace}{\\mu_{i}}\n",
    "\\end{equation}\n",
    "\n",
    "Soit le mode $i$, la solution de l'équation différentielle associée est donnée par :\n",
    "\n",
    "\\begin{equation}\n",
    "\\begin{array}{l c l}\n",
    "\\eta_{i}(t) & = & e^{-\\xi_{i}\\omega_{i}t} \\left[ cos \\left(\\omega_{i}\\sqrt{1-\\xi_{i}^{2}}t \\right)+\\frac{\\xi_{i}}{\\sqrt{1-\\xi_{i}^{2}}} sin \\left(\\omega_{i}\\sqrt{1-\\xi_{i}^{2}}t \\right) \\right]\\eta_{i}(0) + e^{-\\xi_{i}\\omega_{i}t}\\left[ \\frac{sin \\left(\\omega_{i}\\sqrt{1-\\xi_{i}^{2}}t \\right)}{\\omega_{i}\\sqrt{1-\\varepsilon_{i}^{2}}} \\right]\\dot{\\eta_{i}}(0) \\\\ & & \\\\ & &\n",
    "+ \\int_{0}^{t} e^{-\\xi_{i}\\omega_{i}(t-\\tau)} \\frac{sin \\left(\\omega_{i}\\sqrt{1-\\xi_{i}^{2}}(t-\\tau) \\right)}{\\omega_{i}\\sqrt{1-\\xi_{i}^{2}}} \\frac{\\left\\lbrace x_{i} \\right\\rbrace^{T} \\left\\lbrace g(\\tau) \\right\\rbrace }{\\mu_{i}}d\\tau\n",
    "\\end{array}\n",
    "\\end{equation}"
   ]
  },
  {
   "cell_type": "code",
   "execution_count": null,
   "metadata": {},
   "outputs": [],
   "source": [
    "mu=np.zeros((2*n_elem,1));\n",
    "TT=np.zeros((2*n_elem,nb_pt));\n",
    "\n",
    "for i in range(n_elem):\n",
    "    print(\"i =\",i);\n",
    "    mu_temp=np.dot(m_ass,vps[1:2*n_elem+1,o_omegar][:,i]);\n",
    "    mu[i]=np.vdot(vps[1:2*n_elem+1,o_omegar][:,i],mu_temp);\n",
    "    for pt in range(nb_pt):\n",
    "        #print(\"pt =\",pt);\n",
    "        delta_tau=deltat;\n",
    "        tau1=0;\n",
    "        TT[i,pt]=0;\n",
    "        for k in range(pt): # intégration numérique liée au second membre par la méthode des trapèzes\n",
    "            f_tau1=np.exp(-ksi[i]*omegar[o_omegar][i]*(t[pt]-tau1))*np.sin(omegar_red[i]*(t[pt]-tau1))/omegar_red[i]*np.dot(vps[1:2*n_elem+1,o_omegar][:,i],gg[:,k])/mu[i];\n",
    "            f_tau2=np.exp(-ksi[i]*omegar[o_omegar][i]*(t[pt]-(tau1+delta_tau)))*np.sin(omegar_red[i]*(t[pt]-(tau1+delta_tau)))/omegar_red[i]*np.dot(vps[1:2*n_elem+1,o_omegar][:,i],gg[:,k+1])/mu[i];\n",
    "            TT[i,pt]=TT[i,pt]+delta_tau*(f_tau1+f_tau2)/2;\n",
    "            tau1=tau1+delta_tau;\n",
    "        eta[i,pt]=np.exp(-ksi[i]*omegar[o_omegar][i]*t[pt])*(np.cos(omegar_red[i]*t[pt])+ksi[i]/np.sqrt(1-ksi[i]**2)*np.sin(omegar_red[i]*t[pt]))*eta[i,0]+np.exp(-ksi[i]*omegar[o_omegar][i]*t[pt])/omegar_red[i]*np.sin(omegar_red[i]*t[pt])*dot_eta_init[i]+TT[i,pt];"
   ]
  },
  {
   "cell_type": "markdown",
   "metadata": {},
   "source": [
    "## Calcul des paramètres généralisés"
   ]
  },
  {
   "cell_type": "markdown",
   "metadata": {},
   "source": [
    "Retour à la base physique de départ :\n",
    "\n",
    "\\begin{equation}\n",
    "\\left\\lbrace q \\right\\rbrace = \\Sigma^{N}_{i=1} \\eta_{i} \\left\\lbrace x_{i} \\right\\rbrace\n",
    "\\end{equation}"
   ]
  },
  {
   "cell_type": "code",
   "execution_count": null,
   "metadata": {},
   "outputs": [],
   "source": [
    "for pt in range(1,nb_pt):\n",
    "    qq[:,pt]=np.dot(vps[1:2*n_elem+1,o_omegar],eta[:,pt]);\n",
    "print(np.shape(vps))\n",
    "print(np.shape(eta))\n",
    "qf=np.zeros((2*n_elem+1,nb_pt));\n",
    "qf[0:2*n_elem,:]=qq;"
   ]
  },
  {
   "cell_type": "code",
   "execution_count": null,
   "metadata": {},
   "outputs": [],
   "source": [
    "plt.figure();\n",
    "for i in range(3):\n",
    "    plt.plot(t,eta[2*i,:],'-');\n",
    "    print(2*i)\n",
    "plt.xlabel(\"$t$\");\n",
    "plt.ylabel(\"$\\eta$\");\n",
    "\n",
    "\n",
    "plt.figure();\n",
    "for i in range(n_elem):\n",
    "    plt.plot(t,qf[2*i,:],'-');\n",
    "plt.xlabel(\"$t$\");\n",
    "plt.ylabel(\"$q$\");\n",
    "\n",
    "plt.figure()\n",
    "plt.title('déplacement initial')\n",
    "for i in range(n_elem):\n",
    "    plt.plot(i,qf[2*i,0],'o');\n",
    "print(np.shape(qf))"
   ]
  }
 ],
 "metadata": {
  "kernelspec": {
   "display_name": "Python 3",
   "language": "python",
   "name": "python3"
  },
  "language_info": {
   "codemirror_mode": {
    "name": "ipython",
    "version": 3
   },
   "file_extension": ".py",
   "mimetype": "text/x-python",
   "name": "python",
   "nbconvert_exporter": "python",
   "pygments_lexer": "ipython3",
   "version": "3.8.3"
  }
 },
 "nbformat": 4,
 "nbformat_minor": 2
}
